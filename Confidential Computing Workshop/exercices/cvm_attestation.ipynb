{
 "cells": [
  {
   "attachments": {},
   "cell_type": "markdown",
   "metadata": {},
   "source": [
    "# Signature authenticity validation"
   ]
  },
  {
   "attachments": {},
   "cell_type": "markdown",
   "metadata": {},
   "source": [
    "Welcome to this comprehensive walkthrough on Signature Authenticity Validation, an essential part of the Confidential VM on Azure. This notebook guide will enable you to understand and implement the process of authenticating the signature of a JWT (JSON Web Token) generated in the Azure environment.\n",
    "\n",
    "This notebook has been designed to provide you with a practical, hands-on experience for validating the authenticity of JWT tokens, which are essential components for ensuring secure communication between services. You'll be able to capture the output of the JWT in a variable and use it for later attestation processes.\n",
    "\n",
    "It is worth mentioning that the material presented here is largely inspired by the resources available at \n",
    "https://github.com/Azure-Samples/confidential-container-samples.git. This lab leverages that content, and you can refer to this resource to delve deeper.\n",
    "\n"
   ]
  },
  {
   "cell_type": "code",
   "execution_count": 2,
   "metadata": {},
   "outputs": [],
   "source": [
    "# Save the output for later in jwt variable, we are going to attest its authenticity\n",
    "jwt_token = \"eyJhbGciOiJSUzI1NiIsImprdSI6Imh0dHBzOi8vc2hhcmVkZXVzMi5ldXMyLmF0dGVzdC5henVyZS5uZXQvY2VydHMiLCJraWQiOiJKMHBBUGRmWFhIcVdXaW1nckg4NTN3TUlkaDUvZkxlMXo2dVNYWVBYQ2EwPSIsInR5cCI6IkpXVCJ9.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.JbaHsWrEL0w4CxPtgUYmLbPcOwXf01mIlZO5tLM74a0Mnq2KXgPY002ugVugvy_bsTohVrP6KQfr616oErLouy5NhKDpYyeMjuNXZ5eRYwORKtmyEGxCHnpfMusiEmR5rOKethUGOf-FRRh04Te67Om_tZpEUt269oz1KuoNYtGuwEGK-wINY3DWO1hwPfZFc1NsXhOeCCbri1XIemxOh9ozkihjFFTXp09B_1JpjisGyvLVkrbF60IRvQhDTjhblqgDEUeC5zPJpdpuvrLnCMYnOKaBlP_XVwbBRGw-kFdEBRSVDMqlFfMZ7hVIsm5MLGehHPVbd4v9GpNEA6SBDA\""
   ]
  },
  {
   "attachments": {},
   "cell_type": "markdown",
   "metadata": {},
   "source": [
    "This is a JSON Web Token that was delivered by Microsoft Attestation \n",
    "\n",
    "The decrypted form looks like this:\n",
    "\n",
    "\n",
    "\n",
    "<img src=\"images/jwt.png\">"
   ]
  },
  {
   "attachments": {},
   "cell_type": "markdown",
   "metadata": {},
   "source": [
    "### Some useful claims: "
   ]
  },
  {
   "attachments": {},
   "cell_type": "markdown",
   "metadata": {},
   "source": [
    "It attest that is it an Azure confidential virtual machine, with an AMD SEV SNP processor:"
   ]
  },
  {
   "attachments": {},
   "cell_type": "markdown",
   "metadata": {},
   "source": [
    "\n",
    "<img src=\"images/claims_attestation.png\">"
   ]
  },
  {
   "attachments": {},
   "cell_type": "markdown",
   "metadata": {},
   "source": [
    "VM configuration:"
   ]
  },
  {
   "attachments": {},
   "cell_type": "markdown",
   "metadata": {},
   "source": [
    "<img src=\"images/vm_config.png\">"
   ]
  },
  {
   "attachments": {},
   "cell_type": "markdown",
   "metadata": {},
   "source": [
    "### Attestation Signature Validation"
   ]
  },
  {
   "attachments": {},
   "cell_type": "markdown",
   "metadata": {},
   "source": [
    "\n",
    "This Python script verifies the authenticity of a JSON Web Token (JWT) using the RS256 signature method. It does this by first extracting the public key from a given JWT, which is a part of the JWT header. The script fetches the X.509 certificate that contains the public key from a specific URL (JKU) and retrieves it using the Key ID (KID).\n",
    "\n",
    "The extracted public key is then used to validate the signature of the JWT, which consists of three segments: the header, the payload, and the cryptographic signature. Each segment is base64 decoded into bytes.\n",
    "\n",
    "The script then concatenates the header and payload segments, separated by a period, which forms the JWT Signing Input. It calculates the SHA-256 hash of this input. The signature, retrieved from the JWT, is then decrypted using the public key.\n",
    "\n",
    "To validate the signature, the script compares the hash of the JWT signing input to the decrypted signature. If they match, the JWT's signature is considered valid, and therefore, the token is authentic. If not, the signature is invalid, and the JWT is not considered authentic. The script will print the status of the signature verification and return false if the verification fails."
   ]
  },
  {
   "cell_type": "code",
   "execution_count": null,
   "metadata": {},
   "outputs": [],
   "source": [
    "pip install requests"
   ]
  },
  {
   "cell_type": "code",
   "execution_count": null,
   "metadata": {},
   "outputs": [],
   "source": [
    "pip install jwt"
   ]
  },
  {
   "cell_type": "code",
   "execution_count": 5,
   "metadata": {},
   "outputs": [],
   "source": [
    "import base64\n",
    "import json\n",
    "import jwt\n",
    "import requests\n",
    "import json\n",
    "import sys\n",
    "\n",
    "\n",
    "from cryptography.hazmat.primitives import hashes\n",
    "from cryptography.hazmat.primitives.asymmetric import padding\n",
    "from cryptography.hazmat.primitives.serialization import load_pem_public_key\n",
    "from cryptography.hazmat.primitives import serialization\n",
    "from cryptography.x509 import load_pem_x509_certificate\n",
    "\n",
    "import hashlib\n",
    "\n",
    "def extract_pkey(jwt_token, header_segment):\n",
    "    header = json.loads(base64.urlsafe_b64decode(header_segment + '=' * (4 - len(header_segment) % 4)))\n",
    " \n",
    "    jku = header['jku']\n",
    "    kid = header['kid']\n",
    "\n",
    "    # Get the X.509 certificate from the jku URL using the kid\n",
    "    r = requests.get(jku)\n",
    "    certificates = r.json()['keys']\n",
    "    certificate = None\n",
    "    for cert in certificates:\n",
    "        if cert['kid'] == kid:\n",
    "            certificate = cert['x5c'][0]\n",
    "            break\n",
    "    certificate = \"-----BEGIN CERTIFICATE-----\\n\" + certificate + \"\\n-----END CERTIFICATE-----\"\n",
    "\n",
    "    # Load the X.509 certificate and extract the public key\n",
    "    cert_bytes = certificate.encode()\n",
    "    cert = load_pem_x509_certificate(cert_bytes)\n",
    "    public_key = cert.public_key()\n",
    "\n",
    "    return public_key\n",
    "\n",
    "\n",
    "def verify_rs256_signature(jwt_token) -> bool:\n",
    "    \n",
    "\n",
    "    # Extract the JWT header, payload, and signature segments\n",
    "    header_segment, payload_segment, crypto_segment = jwt_token.split('.')\n",
    "    public_key_obj = extract_pkey(jwt_token, header_segment)\n",
    "\n",
    "    # Base64url decode each segment and convert to bytes\n",
    "    header_bytes = base64.urlsafe_b64decode(header_segment + '==')\n",
    "    payload_bytes = base64.urlsafe_b64decode(payload_segment + '==')\n",
    "    crypto_bytes = base64.urlsafe_b64decode(crypto_segment + '==')\n",
    "\n",
    "    # Concatenate the JWT header and payload segments with a period delimiter\n",
    "    jwt_signing_input = header_segment + '.' + payload_segment\n",
    "\n",
    "    # Calculate the SHA-256 hash of the JWT Signing Input\n",
    "    digest = hashlib.sha256(jwt_signing_input.encode('utf-8')).digest()\n",
    "\n",
    "    # Load the public key from a string\n",
    "\n",
    "\n",
    "    # Verify the RSA signature\n",
    "    try:\n",
    "        public_numbers = public_key_obj.public_numbers()\n",
    "        n = public_numbers.n\n",
    "        e = public_numbers.e\n",
    "\n",
    "        signature = int.from_bytes(crypto_bytes, byteorder='big')\n",
    "        s = pow(signature, e, n)\n",
    "        decrypted_signature = s.to_bytes((s.bit_length() + 7) // 8, byteorder='big')\n",
    "\n",
    "        \n",
    "        # Remove padding bytes from decrypted_signature and abstraction syntax notation\n",
    "\n",
    "        \n",
    "        print(\"Decrypted signature with padding : \", decrypted_signature.hex())\n",
    "        decrypted_signature_hex = decrypted_signature.hex()[-64:]\n",
    "\n",
    "        # Convert the digest to hex string\n",
    "        digest_hex = digest.hex()\n",
    "      \n",
    " \n",
    "\n",
    "        print(\"SHA-256 hash of the JWT Signing Input : \" , digest_hex)\n",
    "        print(\"Decrypted signature without padding : \", decrypted_signature_hex)\n",
    "\n",
    "        # Compare the two hex strings\n",
    "        if digest_hex == decrypted_signature_hex:\n",
    "            print(\"The signature is valid !\")\n",
    "        else:\n",
    "            print(\"The signature is not valid !\")\n",
    "\n",
    "    except Exception:\n",
    "        print(\"Verification failed\")\n",
    "        return False"
   ]
  },
  {
   "cell_type": "code",
   "execution_count": 6,
   "metadata": {},
   "outputs": [
    {
     "name": "stdout",
     "output_type": "stream",
     "text": [
      "Decrypted signature with padding :  01ffffffffffffffffffffffffffffffffffffffffffffffffffffffffffffffffffffffffffffffffffffffffffffffffffffffffffffffffffffffffffffffffffffffffffffffffffffffffffffffffffffffffffffffffffffffffffffffffffffffffffffffffffffffffffffffffffffffffffffffffffffffffffffffffffffffffffffffffffffffffffffffffffffffffffffffffffffffffffffffffffffffffffffffffffffffffffffffffffffffffffffffffffffffffffffffffffffffffffffffffffff003031300d060960864801650304020105000420e6cbbb11c233c3f0d50043bc02d1871d0dda70e6802e6d143207bf259b6e379e\n",
      "SHA-256 hash of the JWT Signing Input :  e6cbbb11c233c3f0d50043bc02d1871d0dda70e6802e6d143207bf259b6e379e\n",
      "Decrypted signature without padding :  e6cbbb11c233c3f0d50043bc02d1871d0dda70e6802e6d143207bf259b6e379e\n",
      "The signature is valid !\n"
     ]
    }
   ],
   "source": [
    "verify_rs256_signature(jwt_token)"
   ]
  },
  {
   "attachments": {},
   "cell_type": "markdown",
   "metadata": {},
   "source": [
    "## Remote Attestation Web API Helper Application"
   ]
  },
  {
   "cell_type": "code",
   "execution_count": null,
   "metadata": {},
   "outputs": [],
   "source": [
    "'''\n",
    "git clone https://github.com/Azure-Samples/confidential-container-samples.git && cd confidential-container-samples/cvm-python-app-remoteattest/\n",
    "'''"
   ]
  },
  {
   "attachments": {},
   "cell_type": "markdown",
   "metadata": {},
   "source": [
    "- Expose port 8081 from CVM to access from public IP "
   ]
  },
  {
   "attachments": {},
   "cell_type": "markdown",
   "metadata": {},
   "source": [
    "- Go to your vm overview on azure portal, open networking\n",
    "\n",
    "<img src=\"images/vm_overview.png\">\n"
   ]
  },
  {
   "attachments": {},
   "cell_type": "markdown",
   "metadata": {},
   "source": [
    "<img src=\"images/networking.png\">"
   ]
  },
  {
   "attachments": {},
   "cell_type": "markdown",
   "metadata": {},
   "source": [
    "<img src=\"images/security_rule.png\">"
   ]
  },
  {
   "attachments": {},
   "cell_type": "markdown",
   "metadata": {},
   "source": [
    "- Compile c++ library "
   ]
  },
  {
   "attachments": {},
   "cell_type": "markdown",
   "metadata": {},
   "source": [
    "```\n",
    "cmake .\n",
    "make\n",
    "```"
   ]
  },
  {
   "attachments": {},
   "cell_type": "markdown",
   "metadata": {},
   "source": [
    "- Launch python server"
   ]
  },
  {
   "attachments": {},
   "cell_type": "markdown",
   "metadata": {},
   "source": [
    "```\n",
    "sudo python3 app.py\n",
    "```"
   ]
  },
  {
   "attachments": {},
   "cell_type": "markdown",
   "metadata": {},
   "source": [
    "- Ping your vm on port 8081 to get an attestation (public_adress:8081)"
   ]
  },
  {
   "attachments": {},
   "cell_type": "markdown",
   "metadata": {},
   "source": [
    "<img src=\"images/attestation_web.png\">"
   ]
  }
 ],
 "metadata": {
  "kernelspec": {
   "display_name": "Python 3",
   "language": "python",
   "name": "python3"
  },
  "language_info": {
   "codemirror_mode": {
    "name": "ipython",
    "version": 3
   },
   "file_extension": ".py",
   "mimetype": "text/x-python",
   "name": "python",
   "nbconvert_exporter": "python",
   "pygments_lexer": "ipython3",
   "version": "3.11.3"
  },
  "orig_nbformat": 4
 },
 "nbformat": 4,
 "nbformat_minor": 2
}
